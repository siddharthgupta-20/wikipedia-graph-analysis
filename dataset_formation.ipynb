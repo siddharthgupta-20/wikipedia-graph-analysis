{
 "cells": [
  {
   "cell_type": "code",
   "execution_count": 1,
   "metadata": {},
   "outputs": [],
   "source": [
    "import requests\n",
    "from bs4 import BeautifulSoup\n",
    "import re\n",
    "from urllib.request import urlopen \n",
    "import pandas as pd\n",
    "import nltk\n",
    "from nltk.corpus import stopwords"
   ]
  },
  {
   "cell_type": "code",
   "execution_count": 23,
   "metadata": {},
   "outputs": [],
   "source": [
    "data =[]\n",
    "linked = ['https://en.wikipedia.org/wiki/Statistics',\"https://en.wikipedia.org/wiki/Geometry\",\"https://en.wikipedia.org/wiki/Trigonometry\",'https://en.wikipedia.org/wiki/Algebra',\"https://en.wikipedia.org/wiki/Calculus\"]\n",
    "for k in linked:    \n",
    "    a = []\n",
    "   \n",
    "    count = 0 \n",
    "    a.append(k)\n",
    "    columns = ['title','link']\n",
    "    not_req = [\"%\",\"File\",\"User\",\"Special\",\"Category\",\"identifier\",\"Identifier\",\"Commons,\",\"Help\",\"Template\",\"http\"]\n",
    "    for topic in a:\n",
    "        if count <1000:\n",
    "            flag =0\n",
    "            url = topic\n",
    "            html = urlopen(url)\n",
    "            bs = BeautifulSoup(html,\"lxml\")\n",
    "            links= bs.find('div',{'id': \"bodyContent\"}).findAll(\"a\",href=re.compile(\"(/wiki/)+([A-Za-z0-9_:()])+\"))\n",
    "            lent = len(links)\n",
    "            for link in links:\n",
    "                breaker =0\n",
    "                for nones in not_req:\n",
    "                    if nones not in link[\"href\"]:\n",
    "                        pass\n",
    "                    else:\n",
    "                        breaker +=1\n",
    "                \n",
    "                if breaker == 0:\n",
    "                    \n",
    "                    try:\n",
    "                        data.append((link['title'],\"https://en.wikipedia.org\"+link['href']))\n",
    "                    except:\n",
    "                        data.append((\"\",link['href']))\n",
    "                    if link not in a:\n",
    "                        a.append(\"https://en.wikipedia.org\"+link['href'])\n",
    "                    count +=1\n",
    "                    flag +=1\n",
    "        else:\n",
    "            break"
   ]
  },
  {
   "cell_type": "code",
   "execution_count": 24,
   "metadata": {},
   "outputs": [],
   "source": [
    "df = pd.DataFrame(data,columns = columns)"
   ]
  },
  {
   "cell_type": "code",
   "execution_count": 25,
   "metadata": {},
   "outputs": [
    {
     "data": {
      "text/plain": [
       "7267"
      ]
     },
     "execution_count": 25,
     "metadata": {},
     "output_type": "execute_result"
    }
   ],
   "source": [
    "len(df['title'])"
   ]
  },
  {
   "cell_type": "code",
   "execution_count": 21,
   "metadata": {},
   "outputs": [],
   "source": [
    "df.to_csv(\"finally.csv\")"
   ]
  },
  {
   "cell_type": "code",
   "execution_count": null,
   "metadata": {},
   "outputs": [],
   "source": []
  }
 ],
 "metadata": {
  "interpreter": {
   "hash": "ef1e3fed4a6e217454534c37f254ab88363483cd24628bc396e034846efc80a1"
  },
  "kernelspec": {
   "display_name": "Python 3.9.3 64-bit",
   "language": "python",
   "name": "python3"
  },
  "language_info": {
   "codemirror_mode": {
    "name": "ipython",
    "version": 3
   },
   "file_extension": ".py",
   "mimetype": "text/x-python",
   "name": "python",
   "nbconvert_exporter": "python",
   "pygments_lexer": "ipython3",
   "version": "3.9.3"
  },
  "orig_nbformat": 4
 },
 "nbformat": 4,
 "nbformat_minor": 2
}
